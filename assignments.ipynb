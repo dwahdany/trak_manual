{
 "cells": [
  {
   "cell_type": "code",
   "execution_count": 25,
   "metadata": {},
   "outputs": [],
   "source": [
    "from typing import List\n",
    "\n",
    "from config import Config, EncoderConfig\n",
    "\n",
    "\n",
    "def get_worker_assignments(\n",
    "    encoders: List[EncoderConfig],\n",
    "    worker_id: int,\n",
    "    worker_total: int,\n",
    "    dry_run: bool = False,\n",
    ") -> List[dict]:\n",
    "    \"\"\"Get all encoders that would be processed by this worker.\n",
    "\n",
    "    Returns:\n",
    "        List of dicts containing assignment details\n",
    "    \"\"\"\n",
    "    # number of workers per encoder\n",
    "    subworker_total = worker_total // len(encoders)\n",
    "    print(f\"Subworker total: {subworker_total}\")\n",
    "    assignments = []\n",
    "    for i, encoder_cfg in enumerate(encoders):\n",
    "        print(f\"Looking at encoder {i} of {len(encoders)}\")\n",
    "        if i % worker_total == worker_id % len(\n",
    "            encoders\n",
    "        ):  # should we work on this encoder?\n",
    "            print(f\"We should work on {i}\")\n",
    "            subworker_id = worker_id // len(\n",
    "                encoders\n",
    "            )  # what is our subworker id for this encoder?\n",
    "            if subworker_id < subworker_total:\n",
    "                assignments.append(\n",
    "                    {\n",
    "                        \"encoder_id\": i,\n",
    "                        \"encoder_name\": encoder_cfg.name,\n",
    "                        \"subworker_id\": subworker_id,\n",
    "                        \"subworker_total\": subworker_total,\n",
    "                    }\n",
    "                )\n",
    "            # elif dry_run:\n",
    "            #     assignments.append(\n",
    "            #         {\n",
    "            #             \"encoder_name\": encoder_name,\n",
    "            #             \"dataset_name\": dataset_name,\n",
    "            #             \"dropped\": True,\n",
    "            #             \"reason\": f\"Incomplete set: subworker {subworker_id} of {subworker_total}\",\n",
    "            #             \"num_combinations\": len(combinations),\n",
    "            #         }\n",
    "            #     )\n",
    "\n",
    "    print(f\"Subworker got {len(assignments)} assignments\")\n",
    "    return assignments"
   ]
  },
  {
   "cell_type": "code",
   "execution_count": 26,
   "metadata": {},
   "outputs": [],
   "source": [
    "config = Config()"
   ]
  },
  {
   "cell_type": "code",
   "execution_count": 34,
   "metadata": {},
   "outputs": [
    {
     "name": "stdout",
     "output_type": "stream",
     "text": [
      "Subworker total: 2\n",
      "Looking at encoder 0 of 3\n",
      "Looking at encoder 1 of 3\n",
      "Looking at encoder 2 of 3\n",
      "We should work on 2\n",
      "Subworker got 1 assignments\n"
     ]
    },
    {
     "data": {
      "text/plain": [
       "[{'encoder_id': 2,\n",
       "  'encoder_name': 'local_commonpool_s_s13m_b4k_2',\n",
       "  'subworker_id': 1,\n",
       "  'subworker_total': 2}]"
      ]
     },
     "execution_count": 34,
     "metadata": {},
     "output_type": "execute_result"
    }
   ],
   "source": [
    "get_worker_assignments(config.encoders, 5, 6)"
   ]
  },
  {
   "cell_type": "code",
   "execution_count": null,
   "metadata": {},
   "outputs": [],
   "source": []
  },
  {
   "cell_type": "code",
   "execution_count": null,
   "metadata": {},
   "outputs": [],
   "source": []
  }
 ],
 "metadata": {
  "kernelspec": {
   "display_name": "base",
   "language": "python",
   "name": "python3"
  },
  "language_info": {
   "codemirror_mode": {
    "name": "ipython",
    "version": 3
   },
   "file_extension": ".py",
   "mimetype": "text/x-python",
   "name": "python",
   "nbconvert_exporter": "python",
   "pygments_lexer": "ipython3",
   "version": "3.11.9"
  }
 },
 "nbformat": 4,
 "nbformat_minor": 2
}
