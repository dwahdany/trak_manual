{
 "cells": [
  {
   "cell_type": "code",
   "execution_count": 2,
   "metadata": {},
   "outputs": [
    {
     "name": "stdout",
     "output_type": "stream",
     "text": [
      "env: CUDA_VISIBLE_DEVICES=6\n",
      "Config(device='cuda',\n",
      "       worker_id=0,\n",
      "       worker_total=1,\n",
      "       dry_run=False,\n",
      "       debug=False,\n",
      "       output_dir='/raid/pdpl/trak/grads/',\n",
      "       save_dir='/raid/pdpl/trak/trak_results/',\n",
      "       write_chunks=1000,\n",
      "       seed=42,\n",
      "       proj_dim=2048,\n",
      "       num_contrastive_samples=50000,\n",
      "       datasets={'CIFAR100': DatasetConfig(uri='/datasets/cifar100/shards/cifar100-train-{000000..000049}.tar',\n",
      "                                           uris=None,\n",
      "                                           size=None,\n",
      "                                           num_workers=16,\n",
      "                                           splittable=True,\n",
      "                                           custom=True),\n",
      "                 'Food101': DatasetConfig(uri='/datasets/food101/shards/food101-train-{000000..000075}.tar',\n",
      "                                          uris=None,\n",
      "                                          size=None,\n",
      "                                          num_workers=16,\n",
      "                                          splittable=True,\n",
      "                                          custom=True),\n",
      "                 'STL10': DatasetConfig(uri='/datasets/stl10/shards/stl10-train-{000000..000004}.tar',\n",
      "                                        uris=None,\n",
      "                                        size=None,\n",
      "                                        num_workers=16,\n",
      "                                        splittable=True,\n",
      "                                        custom=True),\n",
      "                 'commonpool': DatasetConfig(uri='/datasets/datacomp/shards/{00000000..00001287}.tar',\n",
      "                                             uris=None,\n",
      "                                             size=None,\n",
      "                                             num_workers=16,\n",
      "                                             splittable=True,\n",
      "                                             custom=False),\n",
      "                 'fairvision/AMD': DatasetConfig(uri='/datasets/fairvision/AMD/shards/amd-train-{000000..000005}.tar',\n",
      "                                                 uris=None,\n",
      "                                                 size=None,\n",
      "                                                 num_workers=16,\n",
      "                                                 splittable=True,\n",
      "                                                 custom=True),\n",
      "                 'fairvision/DR': DatasetConfig(uri='/datasets/fairvision/DR/shards/dr-train-{000000..000005}.tar',\n",
      "                                                uris=None,\n",
      "                                                size=None,\n",
      "                                                num_workers=16,\n",
      "                                                splittable=True,\n",
      "                                                custom=True),\n",
      "                 'fairvision/Glaucoma': DatasetConfig(uri='/datasets/fairvision/Glaucoma/shards/glaucoma-train-{000000..000005}.tar',\n",
      "                                                      uris=None,\n",
      "                                                      size=None,\n",
      "                                                      num_workers=16,\n",
      "                                                      splittable=True,\n",
      "                                                      custom=True),\n",
      "                 'fitzpatrick17k': DatasetConfig(uri='/datasets/fitzpatrick17k/shards/fitzpatrick17k-train-{000000..000012}.tar',\n",
      "                                                 uris=None,\n",
      "                                                 size=None,\n",
      "                                                 num_workers=16,\n",
      "                                                 splittable=True,\n",
      "                                                 custom=True),\n",
      "                 'pcam': DatasetConfig(uri='/datasets/pcam/shards/pcam-train-{000000..000262}.tar',\n",
      "                                       uris=None,\n",
      "                                       size=None,\n",
      "                                       num_workers=16,\n",
      "                                       splittable=True,\n",
      "                                       custom=True)},\n",
      "       encoders=[EncoderConfig(architecture='ViT-B-32',\n",
      "                               name='local_commonpool_s_s13m_b4k_0',\n",
      "                               path='/raid/pdpl/small_clip_checkpoints/raw/datacomp_v0/small_scale/checkpoints/epoch_5.pt',\n",
      "                               url=None,\n",
      "                               target_datasets=['CIFAR100', 'STL10'],\n",
      "                               ood_dataset_name='commonpool',\n",
      "                               id_dataset_name=None,\n",
      "                               precision='pure_fp16',\n",
      "                               embedding_batch_size=2048,\n",
      "                               grad_batch_size=48,\n",
      "                               model_id=0),\n",
      "                 EncoderConfig(architecture='ViT-B-32',\n",
      "                               name='local_commonpool_s_s13m_b4k_1',\n",
      "                               path='/raid/pdpl/small_clip_checkpoints/raw/datacomp_v1/small_scale/checkpoints/epoch_5.pt',\n",
      "                               url=None,\n",
      "                               target_datasets=['CIFAR100', 'STL10'],\n",
      "                               ood_dataset_name='commonpool',\n",
      "                               id_dataset_name=None,\n",
      "                               precision='pure_fp16',\n",
      "                               embedding_batch_size=2048,\n",
      "                               grad_batch_size=48,\n",
      "                               model_id=1),\n",
      "                 EncoderConfig(architecture='ViT-B-32',\n",
      "                               name='local_commonpool_s_s13m_b4k_2',\n",
      "                               path='/raid/pdpl/small_clip_checkpoints/raw/datacomp_v2/small_scale/checkpoints/epoch_5.pt',\n",
      "                               url=None,\n",
      "                               target_datasets=['CIFAR100', 'STL10'],\n",
      "                               ood_dataset_name='commonpool',\n",
      "                               id_dataset_name=None,\n",
      "                               precision='pure_fp16',\n",
      "                               embedding_batch_size=2048,\n",
      "                               grad_batch_size=48,\n",
      "                               model_id=2)])\n"
     ]
    }
   ],
   "source": [
    "%env CUDA_VISIBLE_DEVICES=6\n",
    "from pathlib import Path\n",
    "from pprint import pprint\n",
    "\n",
    "import jax.numpy as jnp\n",
    "import matplotlib.pyplot as plt\n",
    "import numpy as np\n",
    "import pandas as pd\n",
    "import pyarrow.dataset as ds\n",
    "import seaborn as sns\n",
    "import torch as ch\n",
    "import zarr\n",
    "from torch import Tensor\n",
    "from tqdm.rich import tqdm, trange\n",
    "\n",
    "from config import Config\n",
    "\n",
    "cfg = Config()\n",
    "# cfg.device=\"cpu\"\n",
    "pprint(cfg)\n",
    "encoder_cfg = cfg.encoders[0]\n",
    "input_path = str(\n",
    "    Path(cfg.output_dir)\n",
    "    / encoder_cfg.name\n",
    "    / encoder_cfg.ood_dataset_name\n",
    "    / \"data.zarr\"\n",
    ")\n",
    "dataset = zarr.open(input_path)"
   ]
  },
  {
   "cell_type": "code",
   "execution_count": 3,
   "metadata": {},
   "outputs": [],
   "source": [
    "uids_ood = np.char.add(\n",
    "    np.vectorize(lambda x: f\"{x:016x}\")(dataset.uid[\"f0\"]),\n",
    "    np.vectorize(lambda x: f\"{x:016x}\")(dataset.uid[\"f1\"]),\n",
    ")"
   ]
  },
  {
   "cell_type": "code",
   "execution_count": 4,
   "metadata": {},
   "outputs": [],
   "source": [
    "g_ood = zarr.load(input_path + \"/grads\")"
   ]
  },
  {
   "cell_type": "code",
   "execution_count": 5,
   "metadata": {},
   "outputs": [],
   "source": [
    "out_to_loss_ood = zarr.load(input_path + \"/loss_grads\")"
   ]
  },
  {
   "cell_type": "code",
   "execution_count": 6,
   "metadata": {},
   "outputs": [],
   "source": [
    "# Create a structured array combining both arrays\n",
    "dtype = [\n",
    "    (\"uids\", uids_ood.dtype),\n",
    "    (\"grads\", g_ood.dtype, g_ood.shape[1]),\n",
    "    (\n",
    "        \"loss_grads\",\n",
    "        out_to_loss_ood.dtype,\n",
    "    ),\n",
    "]\n",
    "combined = np.empty(len(uids_ood), dtype=dtype)\n",
    "combined[\"uids\"] = uids_ood\n",
    "combined[\"grads\"] = g_ood\n",
    "combined[\"loss_grads\"] = out_to_loss_ood\n",
    "\n",
    "# Sort in-place based on uids\n",
    "combined.sort(order=\"uids\")\n",
    "\n",
    "# Extract back the sorted arrays\n",
    "uids_ood = combined[\"uids\"]\n",
    "g_ood_pt = ch.tensor(combined[\"grads\"], device=\"cpu\").pin_memory()\n",
    "out_to_loss_ood_pt = ch.tensor(\n",
    "    combined[\"loss_grads\"], device=\"cpu\"\n",
    ").pin_memory()"
   ]
  },
  {
   "cell_type": "code",
   "execution_count": 7,
   "metadata": {},
   "outputs": [],
   "source": [
    "def get_xtx(grads: Tensor, batch_size=20_000) -> Tensor:\n",
    "    proj_dim = grads.shape[1]\n",
    "    result = ch.zeros(proj_dim, proj_dim, dtype=grads.dtype, device=\"cuda\")\n",
    "    blocks = ch.split(grads, split_size_or_sections=batch_size, dim=0)\n",
    "\n",
    "    for block in tqdm(blocks):\n",
    "        result += block.T.to(\"cuda\") @ block.to(\"cuda\")\n",
    "\n",
    "    return result"
   ]
  },
  {
   "cell_type": "code",
   "execution_count": 8,
   "metadata": {},
   "outputs": [],
   "source": [
    "def get_x_xtx_inv(\n",
    "    grads: Tensor, xtx: Tensor, lambda_reg=0.0, batch_size=20_000\n",
    ") -> Tensor:\n",
    "    xtx_reg = xtx + lambda_reg * ch.eye(\n",
    "        xtx.size(dim=0), device=xtx.device, dtype=xtx.dtype\n",
    "    )\n",
    "    xtx_inv = ch.linalg.inv(xtx_reg.to(ch.float32))\n",
    "\n",
    "    # center X^TX inverse a bit to avoid numerical issues when going to float16\n",
    "    xtx_inv /= xtx_inv.abs().mean()\n",
    "    xtx_inv = xtx_inv.to(grads.dtype)\n",
    "\n",
    "    grads_blocks = ch.split(grads, split_size_or_sections=batch_size, dim=0)\n",
    "\n",
    "    # Move xtx_inv to GPU once before the loop\n",
    "    xtx_inv_gpu = xtx_inv.cuda()\n",
    "\n",
    "    # Process blocks on GPU\n",
    "    result_blocks = []\n",
    "    for block in tqdm(grads_blocks, desc=\"Processing blocks\"):\n",
    "        # Move block to GPU, compute, then back to CPU\n",
    "        block_gpu = block.cuda()\n",
    "        result_gpu = block_gpu @ xtx_inv_gpu\n",
    "        result_blocks.append(result_gpu.cpu())\n",
    "\n",
    "    # Concatenate results on CPU\n",
    "    result = ch.cat(result_blocks)\n",
    "\n",
    "    return result.to(dtype=grads.dtype)"
   ]
  },
  {
   "cell_type": "code",
   "execution_count": 25,
   "metadata": {},
   "outputs": [],
   "source": [
    "all_ood_scores = {}\n",
    "all_id_scores = {}"
   ]
  },
  {
   "cell_type": "code",
   "execution_count": 10,
   "metadata": {},
   "outputs": [],
   "source": [
    "def get_indices(target, id: bool = True):\n",
    "    id_indices_zarr = zarr.open(\"/raid/pdpl/id_downstream_idx.zarr\", mode=\"r\")\n",
    "    if id:\n",
    "        return id_indices_zarr[target][\"id_indices\"]\n",
    "    else:\n",
    "        return id_indices_zarr[target][\"downstream_indices\"]"
   ]
  },
  {
   "cell_type": "code",
   "execution_count": 33,
   "metadata": {},
   "outputs": [
    {
     "data": {
      "application/vnd.jupyter.widget-view+json": {
       "model_id": "38d69b3d2de749cabed5267b76c99848",
       "version_major": 2,
       "version_minor": 0
      },
      "text/plain": [
       "Output()"
      ]
     },
     "metadata": {},
     "output_type": "display_data"
    },
    {
     "name": "stderr",
     "output_type": "stream",
     "text": [
      "/tmp/ipykernel_1655642/1007568943.py:34: TqdmExperimentalWarning: rich is experimental/alpha\n",
      "  for batch in tqdm(\n"
     ]
    },
    {
     "data": {
      "text/html": [
       "<pre style=\"white-space:pre;overflow-x:auto;line-height:normal;font-family:Menlo,'DejaVu Sans Mono',consolas,'Courier New',monospace\"></pre>\n"
      ],
      "text/plain": []
     },
     "metadata": {},
     "output_type": "display_data"
    },
    {
     "data": {
      "application/vnd.jupyter.widget-view+json": {
       "model_id": "2deca7ecab5a4ed499c95028a7e32377",
       "version_major": 2,
       "version_minor": 0
      },
      "text/plain": [
       "Output()"
      ]
     },
     "metadata": {},
     "output_type": "display_data"
    },
    {
     "name": "stderr",
     "output_type": "stream",
     "text": [
      "/tmp/ipykernel_1655642/1277497041.py:6: TqdmExperimentalWarning: rich is experimental/alpha\n",
      "  for block in tqdm(blocks):\n"
     ]
    },
    {
     "data": {
      "text/html": [
       "<pre style=\"white-space:pre;overflow-x:auto;line-height:normal;font-family:Menlo,'DejaVu Sans Mono',consolas,'Courier New',monospace\"></pre>\n"
      ],
      "text/plain": []
     },
     "metadata": {},
     "output_type": "display_data"
    },
    {
     "data": {
      "application/vnd.jupyter.widget-view+json": {
       "model_id": "936e319841494893a4321d07b534982d",
       "version_major": 2,
       "version_minor": 0
      },
      "text/plain": [
       "Output()"
      ]
     },
     "metadata": {},
     "output_type": "display_data"
    },
    {
     "name": "stderr",
     "output_type": "stream",
     "text": [
      "/tmp/ipykernel_1655642/1614473132.py:20: TqdmExperimentalWarning: rich is experimental/alpha\n",
      "  for block in tqdm(grads_blocks, desc=\"Processing blocks\"):\n"
     ]
    },
    {
     "data": {
      "text/html": [
       "<pre style=\"white-space:pre;overflow-x:auto;line-height:normal;font-family:Menlo,'DejaVu Sans Mono',consolas,'Courier New',monospace\"></pre>\n"
      ],
      "text/plain": []
     },
     "metadata": {},
     "output_type": "display_data"
    },
    {
     "data": {
      "application/vnd.jupyter.widget-view+json": {
       "model_id": "9f2860be6cd449669e460ca771683ab1",
       "version_major": 2,
       "version_minor": 0
      },
      "text/plain": [
       "Output()"
      ]
     },
     "metadata": {},
     "output_type": "display_data"
    },
    {
     "name": "stderr",
     "output_type": "stream",
     "text": [
      "/git/trak_manual/.venv/lib/python3.11/site-packages/tqdm/rich.py:146: TqdmExperimentalWarning: rich is experimental/alpha\n",
      "  return tqdm_rich(range(*args), **kwargs)\n"
     ]
    },
    {
     "data": {
      "text/html": [
       "<pre style=\"white-space:pre;overflow-x:auto;line-height:normal;font-family:Menlo,'DejaVu Sans Mono',consolas,'Courier New',monospace\"></pre>\n"
      ],
      "text/plain": []
     },
     "metadata": {},
     "output_type": "display_data"
    },
    {
     "data": {
      "application/vnd.jupyter.widget-view+json": {
       "model_id": "e1ed40d4aa974bc78b93be473a80366b",
       "version_major": 2,
       "version_minor": 0
      },
      "text/plain": [
       "Output()"
      ]
     },
     "metadata": {},
     "output_type": "display_data"
    },
    {
     "data": {
      "text/html": [
       "<pre style=\"white-space:pre;overflow-x:auto;line-height:normal;font-family:Menlo,'DejaVu Sans Mono',consolas,'Courier New',monospace\"></pre>\n"
      ],
      "text/plain": []
     },
     "metadata": {},
     "output_type": "display_data"
    },
    {
     "data": {
      "application/vnd.jupyter.widget-view+json": {
       "model_id": "d942e5b05de648048496b54dd417c74c",
       "version_major": 2,
       "version_minor": 0
      },
      "text/plain": [
       "Output()"
      ]
     },
     "metadata": {},
     "output_type": "display_data"
    },
    {
     "data": {
      "text/html": [
       "<pre style=\"white-space:pre;overflow-x:auto;line-height:normal;font-family:Menlo,'DejaVu Sans Mono',consolas,'Courier New',monospace\"></pre>\n"
      ],
      "text/plain": []
     },
     "metadata": {},
     "output_type": "display_data"
    },
    {
     "data": {
      "application/vnd.jupyter.widget-view+json": {
       "model_id": "bdaf455f57184d3298351d3461b596c3",
       "version_major": 2,
       "version_minor": 0
      },
      "text/plain": [
       "Output()"
      ]
     },
     "metadata": {},
     "output_type": "display_data"
    },
    {
     "data": {
      "text/html": [
       "<pre style=\"white-space:pre;overflow-x:auto;line-height:normal;font-family:Menlo,'DejaVu Sans Mono',consolas,'Courier New',monospace\"></pre>\n"
      ],
      "text/plain": []
     },
     "metadata": {},
     "output_type": "display_data"
    },
    {
     "data": {
      "application/vnd.jupyter.widget-view+json": {
       "model_id": "f13d7b2ce0ba4025894725061c48874e",
       "version_major": 2,
       "version_minor": 0
      },
      "text/plain": [
       "Output()"
      ]
     },
     "metadata": {},
     "output_type": "display_data"
    },
    {
     "data": {
      "text/html": [
       "<pre style=\"white-space:pre;overflow-x:auto;line-height:normal;font-family:Menlo,'DejaVu Sans Mono',consolas,'Courier New',monospace\"></pre>\n"
      ],
      "text/plain": []
     },
     "metadata": {},
     "output_type": "display_data"
    },
    {
     "data": {
      "application/vnd.jupyter.widget-view+json": {
       "model_id": "cf0a50dbaba74506b80b891e86e58834",
       "version_major": 2,
       "version_minor": 0
      },
      "text/plain": [
       "Output()"
      ]
     },
     "metadata": {},
     "output_type": "display_data"
    },
    {
     "data": {
      "text/html": [
       "<pre style=\"white-space:pre;overflow-x:auto;line-height:normal;font-family:Menlo,'DejaVu Sans Mono',consolas,'Courier New',monospace\"></pre>\n"
      ],
      "text/plain": []
     },
     "metadata": {},
     "output_type": "display_data"
    },
    {
     "data": {
      "application/vnd.jupyter.widget-view+json": {
       "model_id": "5a846b5c11124681b226785ee607581b",
       "version_major": 2,
       "version_minor": 0
      },
      "text/plain": [
       "Output()"
      ]
     },
     "metadata": {},
     "output_type": "display_data"
    },
    {
     "data": {
      "text/html": [
       "<pre style=\"white-space:pre;overflow-x:auto;line-height:normal;font-family:Menlo,'DejaVu Sans Mono',consolas,'Courier New',monospace\"></pre>\n"
      ],
      "text/plain": []
     },
     "metadata": {},
     "output_type": "display_data"
    },
    {
     "data": {
      "application/vnd.jupyter.widget-view+json": {
       "model_id": "710556f671824d61ae830fa9bde0d05d",
       "version_major": 2,
       "version_minor": 0
      },
      "text/plain": [
       "Output()"
      ]
     },
     "metadata": {},
     "output_type": "display_data"
    },
    {
     "data": {
      "text/html": [
       "<pre style=\"white-space:pre;overflow-x:auto;line-height:normal;font-family:Menlo,'DejaVu Sans Mono',consolas,'Courier New',monospace\"></pre>\n"
      ],
      "text/plain": []
     },
     "metadata": {},
     "output_type": "display_data"
    },
    {
     "data": {
      "application/vnd.jupyter.widget-view+json": {
       "model_id": "7a8f091ff1fb4e3f95f5a60b7243fd83",
       "version_major": 2,
       "version_minor": 0
      },
      "text/plain": [
       "Output()"
      ]
     },
     "metadata": {},
     "output_type": "display_data"
    },
    {
     "data": {
      "text/html": [
       "<pre style=\"white-space:pre;overflow-x:auto;line-height:normal;font-family:Menlo,'DejaVu Sans Mono',consolas,'Courier New',monospace\"></pre>\n"
      ],
      "text/plain": []
     },
     "metadata": {},
     "output_type": "display_data"
    },
    {
     "data": {
      "application/vnd.jupyter.widget-view+json": {
       "model_id": "9690fdccb62f41e6a3f7dd5a4169e8dc",
       "version_major": 2,
       "version_minor": 0
      },
      "text/plain": [
       "Output()"
      ]
     },
     "metadata": {},
     "output_type": "display_data"
    },
    {
     "data": {
      "text/html": [
       "<pre style=\"white-space:pre;overflow-x:auto;line-height:normal;font-family:Menlo,'DejaVu Sans Mono',consolas,'Courier New',monospace\"></pre>\n"
      ],
      "text/plain": []
     },
     "metadata": {},
     "output_type": "display_data"
    },
    {
     "data": {
      "application/vnd.jupyter.widget-view+json": {
       "model_id": "65de6b7a4b354f00b5935e5ee20ac93e",
       "version_major": 2,
       "version_minor": 0
      },
      "text/plain": [
       "Output()"
      ]
     },
     "metadata": {},
     "output_type": "display_data"
    },
    {
     "data": {
      "text/html": [
       "<pre style=\"white-space:pre;overflow-x:auto;line-height:normal;font-family:Menlo,'DejaVu Sans Mono',consolas,'Courier New',monospace\"></pre>\n"
      ],
      "text/plain": []
     },
     "metadata": {},
     "output_type": "display_data"
    },
    {
     "data": {
      "application/vnd.jupyter.widget-view+json": {
       "model_id": "08c1ee45e7344a76b0fa74249fbe2ca6",
       "version_major": 2,
       "version_minor": 0
      },
      "text/plain": [
       "Output()"
      ]
     },
     "metadata": {},
     "output_type": "display_data"
    },
    {
     "data": {
      "text/html": [
       "<pre style=\"white-space:pre;overflow-x:auto;line-height:normal;font-family:Menlo,'DejaVu Sans Mono',consolas,'Courier New',monospace\"></pre>\n"
      ],
      "text/plain": []
     },
     "metadata": {},
     "output_type": "display_data"
    },
    {
     "data": {
      "application/vnd.jupyter.widget-view+json": {
       "model_id": "b4505949b1334cb08f101d41f9c46627",
       "version_major": 2,
       "version_minor": 0
      },
      "text/plain": [
       "Output()"
      ]
     },
     "metadata": {},
     "output_type": "display_data"
    },
    {
     "data": {
      "text/html": [
       "<pre style=\"white-space:pre;overflow-x:auto;line-height:normal;font-family:Menlo,'DejaVu Sans Mono',consolas,'Courier New',monospace\"></pre>\n"
      ],
      "text/plain": []
     },
     "metadata": {},
     "output_type": "display_data"
    },
    {
     "data": {
      "application/vnd.jupyter.widget-view+json": {
       "model_id": "a25307da00684347a1ed39cb9decd876",
       "version_major": 2,
       "version_minor": 0
      },
      "text/plain": [
       "Output()"
      ]
     },
     "metadata": {},
     "output_type": "display_data"
    },
    {
     "data": {
      "text/html": [
       "<pre style=\"white-space:pre;overflow-x:auto;line-height:normal;font-family:Menlo,'DejaVu Sans Mono',consolas,'Courier New',monospace\"></pre>\n"
      ],
      "text/plain": []
     },
     "metadata": {},
     "output_type": "display_data"
    },
    {
     "data": {
      "application/vnd.jupyter.widget-view+json": {
       "model_id": "dde8830cfd7945188a05df172df928c0",
       "version_major": 2,
       "version_minor": 0
      },
      "text/plain": [
       "Output()"
      ]
     },
     "metadata": {},
     "output_type": "display_data"
    },
    {
     "data": {
      "text/html": [
       "<pre style=\"white-space:pre;overflow-x:auto;line-height:normal;font-family:Menlo,'DejaVu Sans Mono',consolas,'Courier New',monospace\"></pre>\n"
      ],
      "text/plain": []
     },
     "metadata": {},
     "output_type": "display_data"
    },
    {
     "data": {
      "application/vnd.jupyter.widget-view+json": {
       "model_id": "0c8900c05eb0497693516e065cb95100",
       "version_major": 2,
       "version_minor": 0
      },
      "text/plain": [
       "Output()"
      ]
     },
     "metadata": {},
     "output_type": "display_data"
    },
    {
     "data": {
      "text/html": [
       "<pre style=\"white-space:pre;overflow-x:auto;line-height:normal;font-family:Menlo,'DejaVu Sans Mono',consolas,'Courier New',monospace\"></pre>\n"
      ],
      "text/plain": []
     },
     "metadata": {},
     "output_type": "display_data"
    },
    {
     "data": {
      "application/vnd.jupyter.widget-view+json": {
       "model_id": "e9a3f0ca84c041b1bafa429d8953ec56",
       "version_major": 2,
       "version_minor": 0
      },
      "text/plain": [
       "Output()"
      ]
     },
     "metadata": {},
     "output_type": "display_data"
    },
    {
     "data": {
      "text/html": [
       "<pre style=\"white-space:pre;overflow-x:auto;line-height:normal;font-family:Menlo,'DejaVu Sans Mono',consolas,'Courier New',monospace\"></pre>\n"
      ],
      "text/plain": []
     },
     "metadata": {},
     "output_type": "display_data"
    },
    {
     "data": {
      "application/vnd.jupyter.widget-view+json": {
       "model_id": "b9dee0cfbe5945eb8ace4b8b7be057c2",
       "version_major": 2,
       "version_minor": 0
      },
      "text/plain": [
       "Output()"
      ]
     },
     "metadata": {},
     "output_type": "display_data"
    },
    {
     "data": {
      "text/html": [
       "<pre style=\"white-space:pre;overflow-x:auto;line-height:normal;font-family:Menlo,'DejaVu Sans Mono',consolas,'Courier New',monospace\"></pre>\n"
      ],
      "text/plain": []
     },
     "metadata": {},
     "output_type": "display_data"
    },
    {
     "data": {
      "application/vnd.jupyter.widget-view+json": {
       "model_id": "ba4c9ae2afeb4ae2840dc9a546c48437",
       "version_major": 2,
       "version_minor": 0
      },
      "text/plain": [
       "Output()"
      ]
     },
     "metadata": {},
     "output_type": "display_data"
    },
    {
     "data": {
      "text/html": [
       "<pre style=\"white-space:pre;overflow-x:auto;line-height:normal;font-family:Menlo,'DejaVu Sans Mono',consolas,'Courier New',monospace\"></pre>\n"
      ],
      "text/plain": []
     },
     "metadata": {},
     "output_type": "display_data"
    },
    {
     "data": {
      "application/vnd.jupyter.widget-view+json": {
       "model_id": "3e75f7cac5f0457bbf88d405d85aebea",
       "version_major": 2,
       "version_minor": 0
      },
      "text/plain": [
       "Output()"
      ]
     },
     "metadata": {},
     "output_type": "display_data"
    },
    {
     "data": {
      "text/html": [
       "<pre style=\"white-space:pre;overflow-x:auto;line-height:normal;font-family:Menlo,'DejaVu Sans Mono',consolas,'Courier New',monospace\"></pre>\n"
      ],
      "text/plain": []
     },
     "metadata": {},
     "output_type": "display_data"
    },
    {
     "data": {
      "application/vnd.jupyter.widget-view+json": {
       "model_id": "b731a7f706204731873bb3ae89308ea5",
       "version_major": 2,
       "version_minor": 0
      },
      "text/plain": [
       "Output()"
      ]
     },
     "metadata": {},
     "output_type": "display_data"
    },
    {
     "data": {
      "text/html": [
       "<pre style=\"white-space:pre;overflow-x:auto;line-height:normal;font-family:Menlo,'DejaVu Sans Mono',consolas,'Courier New',monospace\"></pre>\n"
      ],
      "text/plain": []
     },
     "metadata": {},
     "output_type": "display_data"
    },
    {
     "data": {
      "application/vnd.jupyter.widget-view+json": {
       "model_id": "519e71a36c374075b23fcbb4bc6af88c",
       "version_major": 2,
       "version_minor": 0
      },
      "text/plain": [
       "Output()"
      ]
     },
     "metadata": {},
     "output_type": "display_data"
    },
    {
     "data": {
      "text/html": [
       "<pre style=\"white-space:pre;overflow-x:auto;line-height:normal;font-family:Menlo,'DejaVu Sans Mono',consolas,'Courier New',monospace\"></pre>\n"
      ],
      "text/plain": []
     },
     "metadata": {},
     "output_type": "display_data"
    },
    {
     "data": {
      "application/vnd.jupyter.widget-view+json": {
       "model_id": "5cb8f497c8ce44b4893a1ed169d7ff74",
       "version_major": 2,
       "version_minor": 0
      },
      "text/plain": [
       "Output()"
      ]
     },
     "metadata": {},
     "output_type": "display_data"
    },
    {
     "data": {
      "text/html": [
       "<pre style=\"white-space:pre;overflow-x:auto;line-height:normal;font-family:Menlo,'DejaVu Sans Mono',consolas,'Courier New',monospace\"></pre>\n"
      ],
      "text/plain": []
     },
     "metadata": {},
     "output_type": "display_data"
    },
    {
     "data": {
      "application/vnd.jupyter.widget-view+json": {
       "model_id": "c8ea0ec2983b4b81a236e768a2eed14b",
       "version_major": 2,
       "version_minor": 0
      },
      "text/plain": [
       "Output()"
      ]
     },
     "metadata": {},
     "output_type": "display_data"
    },
    {
     "data": {
      "text/html": [
       "<pre style=\"white-space:pre;overflow-x:auto;line-height:normal;font-family:Menlo,'DejaVu Sans Mono',consolas,'Courier New',monospace\"></pre>\n"
      ],
      "text/plain": []
     },
     "metadata": {},
     "output_type": "display_data"
    },
    {
     "data": {
      "application/vnd.jupyter.widget-view+json": {
       "model_id": "60feeff37cce4353ba0cbd1b4df545ee",
       "version_major": 2,
       "version_minor": 0
      },
      "text/plain": [
       "Output()"
      ]
     },
     "metadata": {},
     "output_type": "display_data"
    },
    {
     "data": {
      "text/html": [
       "<pre style=\"white-space:pre;overflow-x:auto;line-height:normal;font-family:Menlo,'DejaVu Sans Mono',consolas,'Courier New',monospace\"></pre>\n"
      ],
      "text/plain": []
     },
     "metadata": {},
     "output_type": "display_data"
    }
   ],
   "source": [
    "scores_zarr = zarr.open(\n",
    "    \"/datasets/datacomp/nearest_neighbor_scores.zarr\", mode=\"a\"\n",
    ")\n",
    "if \"trak\" not in scores_zarr:\n",
    "    scores_zarr.create_group(\"trak\")\n",
    "scores_zarr = scores_zarr[\"trak\"]\n",
    "# get target features\n",
    "for target in [\n",
    "    \"fitzpatrick17k\",\n",
    "    \"fairvision/dr\",\n",
    "    \"fairvision/amd\",\n",
    "    \"fairvision/glaucoma\",\n",
    "    \"pcam\",\n",
    "    \"food101\",\n",
    "    \"cifar100\",\n",
    "    \"stl10\",\n",
    "]:\n",
    "    if target in all_ood_scores.keys():\n",
    "        continue\n",
    "    if target in scores_zarr:\n",
    "        all_ood_scores[target] = np.array(scores_zarr[target][\"ood_scores\"])\n",
    "        all_id_scores[target] = np.array(scores_zarr[target][\"id_scores\"])\n",
    "        continue\n",
    "    input_path = str(Path(cfg.output_dir) / encoder_cfg.name / target)\n",
    "    dataset_target = ds.dataset(input_path, format=\"parquet\")\n",
    "    batch_size = 16384\n",
    "    scanner = dataset_target.scanner(\n",
    "        columns=[\"grads\", \"uid\", \"loss_grads\"], batch_size=batch_size\n",
    "    )\n",
    "    batches = scanner.to_batches()\n",
    "    grads_list = []\n",
    "    uids_list = []\n",
    "    out_to_loss_list = []\n",
    "    for batch in tqdm(\n",
    "        scanner.to_batches(),\n",
    "        total=dataset_target.count_rows() // batch_size,\n",
    "        desc=\"Loading targetbatches\",\n",
    "    ):\n",
    "        grads_list.extend(batch.column(\"grads\").to_numpy(zero_copy_only=False))\n",
    "        uids_list.extend(batch.column(\"uid\").to_numpy(zero_copy_only=False))\n",
    "        out_to_loss_list.extend(\n",
    "            batch.column(\"loss_grads\").to_numpy(zero_copy_only=False)\n",
    "        )\n",
    "    g_target = np.stack(grads_list)\n",
    "    uids_target = np.stack(uids_list)\n",
    "    out_to_loss = np.stack(out_to_loss_list)\n",
    "    dtype = [\n",
    "        (\"uids\", uids_target.dtype),\n",
    "        (\"grads\", g_target.dtype, g_target.shape[1]),\n",
    "        (\"out_to_loss\", out_to_loss.dtype),\n",
    "    ]\n",
    "    combined = np.empty(len(uids_target), dtype=dtype)\n",
    "    combined[\"uids\"] = uids_target\n",
    "    combined[\"grads\"] = g_target\n",
    "    combined[\"out_to_loss\"] = out_to_loss\n",
    "    combined.sort(order=\"uids\")\n",
    "    downstream_indices = get_indices(\n",
    "        target, id=False\n",
    "    )  # get downstream indices\n",
    "    g_target = combined[\"grads\"][downstream_indices]\n",
    "    g_target_pt = ch.tensor(g_target, device=\"cpu\").pin_memory()\n",
    "    id_indices = get_indices(target, id=True)\n",
    "    g_id = combined[\"grads\"][id_indices]\n",
    "    g_id_pt = ch.tensor(g_id, device=\"cpu\").pin_memory()\n",
    "    out_to_loss_id = combined[\"out_to_loss\"][id_indices]\n",
    "    out_to_loss_id_pt = ch.tensor(out_to_loss_id, device=\"cpu\").pin_memory()\n",
    "\n",
    "    g_all = ch.cat([g_id_pt, g_ood_pt])\n",
    "    out_to_loss_all = ch.cat([out_to_loss_id_pt, out_to_loss_ood_pt])\n",
    "\n",
    "    xtx = get_xtx(g_all)\n",
    "    x_xtx_inv = get_x_xtx_inv(g_all, xtx)\n",
    "    features_pt = x_xtx_inv.pin_memory()\n",
    "\n",
    "    batch_size = 8192 * 2\n",
    "    scores = []\n",
    "    for i in trange(0, len(features_pt), batch_size, desc=\"Computing scores\"):\n",
    "        batch = features_pt[i : i + batch_size].cuda()\n",
    "        batch_scores = ch.mean(batch @ g_target_pt.cuda().T, axis=1)\n",
    "        scores.append(batch_scores.cpu())\n",
    "    scores = ch.cat(scores)\n",
    "    scores = scores * out_to_loss_all\n",
    "\n",
    "    scores_ood = scores[len(g_id_pt) :]\n",
    "    scores_id = scores[: len(g_id_pt)]\n",
    "\n",
    "    if target not in scores_zarr:\n",
    "        target_group = scores_zarr.create_group(target)\n",
    "    else:\n",
    "        target_group = scores_zarr[target]\n",
    "\n",
    "    # Save the scores\n",
    "    target_group.array(\n",
    "        \"id_scores\",\n",
    "        np.array(scores_id.cpu()),\n",
    "        dtype=np.float32,\n",
    "        overwrite=True,\n",
    "    )\n",
    "    target_group.array(\n",
    "        \"ood_scores\",\n",
    "        np.array(scores_ood.cpu()),\n",
    "        dtype=np.float32,\n",
    "        overwrite=True,\n",
    "    )\n",
    "    all_ood_scores[target] = scores_ood.cpu()\n",
    "    all_id_scores[target] = scores_id.cpu()\n"
   ]
  },
  {
   "cell_type": "code",
   "execution_count": 34,
   "metadata": {},
   "outputs": [
    {
     "data": {
      "text/plain": [
       "dict_keys(['fitzpatrick17k', 'fairvision/dr', 'fairvision/amd', 'fairvision/glaucoma', 'pcam', 'food101', 'cifar100', 'stl10'])"
      ]
     },
     "execution_count": 34,
     "metadata": {},
     "output_type": "execute_result"
    }
   ],
   "source": [
    "all_ood_scores.keys()"
   ]
  },
  {
   "cell_type": "code",
   "execution_count": 45,
   "metadata": {},
   "outputs": [
    {
     "name": "stdout",
     "output_type": "stream",
     "text": [
      "               dataset  ood_mean  ood_std  id_mean  id_std\n",
      "2       fairvision/amd    0.0000   0.0010   0.0447  0.0066\n",
      "1        fairvision/dr    0.0000   0.0010   0.0413  0.0065\n",
      "3  fairvision/glaucoma    0.0000   0.0009   0.0343  0.0034\n",
      "7                stl10    0.0000   0.0008   0.0248  0.0128\n",
      "0       fitzpatrick17k    0.0000   0.0007   0.0236  0.0073\n",
      "6             cifar100    0.0000   0.0003   0.0077  0.0027\n",
      "5              food101    0.0000   0.0003   0.0054  0.0021\n",
      "4                 pcam    0.0000   0.0001   0.0028  0.0003\n"
     ]
    }
   ],
   "source": [
    "data = []\n",
    "for key in all_ood_scores.keys():\n",
    "    ood_scores = all_ood_scores[key]\n",
    "    id_scores = all_id_scores[key]\n",
    "    \n",
    "    ood_mean = ood_scores.mean().item()\n",
    "    ood_std = ood_scores.std().item()\n",
    "    id_mean = id_scores.mean().item() \n",
    "    id_std = id_scores.std().item()\n",
    "    \n",
    "    data.append({\n",
    "        \"dataset\": key,\n",
    "        \"ood_mean\": ood_mean,\n",
    "        \"ood_std\": ood_std,\n",
    "        \"id_mean\": id_mean,\n",
    "        \"id_std\": id_std\n",
    "    })\n",
    "\n",
    "df = pd.DataFrame(data)\n",
    "df = df.sort_values(\"ood_std\", ascending=False)\n",
    "print(df.to_string(float_format=lambda x: \"{:.4f}\".format(x)))\n"
   ]
  },
  {
   "cell_type": "code",
   "execution_count": 40,
   "metadata": {},
   "outputs": [
    {
     "data": {
      "image/png": "[encoded data removed]",
      "text/plain": [
       "<Figure size 1000x600 with 2 Axes>"
      ]
     },
     "metadata": {},
     "output_type": "display_data"
    }
   ],
   "source": [
    "plt.figure(figsize=(10, 6))\n",
    "sns.set_style(\"whitegrid\", {\"grid.alpha\": 0.3})\n",
    "\n",
    "# Create a continuous color palette with enough colors\n",
    "num_datasets = len(all_ood_scores)\n",
    "colors = plt.cm.viridis(np.linspace(0, 0.8, num_datasets))\n",
    "\n",
    "def compute_histogram(data, bins=50):\n",
    "    hist, bin_edges = jnp.histogram(data, bins=bins)\n",
    "    return hist, bin_edges\n",
    "\n",
    "# Plot OOD scores\n",
    "plt.subplot(1, 2, 1)\n",
    "for i, row in enumerate(df.itertuples()):\n",
    "    key = row.dataset\n",
    "    scores = all_ood_scores[key]\n",
    "    scores_np = jnp.array(scores)\n",
    "    hist, bins = compute_histogram(scores_np)\n",
    "    \n",
    "    hist = hist.block_until_ready()\n",
    "    sns.lineplot(x=bins[:-1], y=hist, alpha=0.5, label=key, color=colors[i])\n",
    "    plt.yscale(\"log\")\n",
    "\n",
    "plt.title(\"Distribution of OOD Scores\")\n",
    "plt.xlabel(\"Score\")\n",
    "plt.ylabel(\"Count (log scale)\")\n",
    "plt.legend()\n",
    "\n",
    "# Plot ID scores\n",
    "plt.subplot(1, 2, 2)\n",
    "for i, row in enumerate(df.itertuples()):\n",
    "    key = row.dataset\n",
    "    scores = all_id_scores[key]\n",
    "    scores_np = jnp.array(scores)\n",
    "    hist, bins = compute_histogram(scores_np)\n",
    "    \n",
    "    hist = hist.block_until_ready()\n",
    "    sns.lineplot(x=bins[:-1], y=hist, alpha=0.5, label=key, color=colors[i])\n",
    "    plt.yscale(\"log\")\n",
    "\n",
    "plt.title(\"Distribution of ID Scores\") \n",
    "plt.xlabel(\"Score\")\n",
    "plt.ylabel(\"Count (log scale)\")\n",
    "plt.legend()\n",
    "\n",
    "plt.tight_layout()\n",
    "plt.show()"
   ]
  },
  {
   "cell_type": "code",
   "execution_count": 44,
   "metadata": {},
   "outputs": [
    {
     "data": {
      "text/plain": [
       "tensor(-0.0021)"
      ]
     },
     "execution_count": 44,
     "metadata": {},
     "output_type": "execute_result"
    }
   ],
   "source": [
    "all_ood_scores['pcam'].min()"
   ]
  },
  {
   "cell_type": "code",
   "execution_count": 40,
   "metadata": {},
   "outputs": [],
   "source": [
    "# from trak.utils import get_matrix_mult_blockwise\n",
    "\n",
    "# full_scores = get_matrix_mult_blockwise(\n",
    "#     features, ch.tensor(g_target, device=\"cpu\"), ch.float16, bs=2048\n",
    "# )\n"
   ]
  },
  {
   "cell_type": "code",
   "execution_count": null,
   "metadata": {},
   "outputs": [],
   "source": []
  },
  {
   "cell_type": "code",
   "execution_count": null,
   "metadata": {},
   "outputs": [],
   "source": []
  }
 ],
 "metadata": {
  "kernelspec": {
   "display_name": ".venv",
   "language": "python",
   "name": "python3"
  },
  "language_info": {
   "codemirror_mode": {
    "name": "ipython",
    "version": 3
   },
   "file_extension": ".py",
   "mimetype": "text/x-python",
   "name": "python",
   "nbconvert_exporter": "python",
   "pygments_lexer": "ipython3",
   "version": "3.11.11"
  }
 },
 "nbformat": 4,
 "nbformat_minor": 2
}
