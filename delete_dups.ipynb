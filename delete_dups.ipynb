{
 "cells": [
  {
   "cell_type": "code",
   "execution_count": 1,
   "metadata": {},
   "outputs": [],
   "source": [
    "path = \"/raid/pdpl/trak/grads/local_commonpool_s_s13m_b4k_2\"\n"
   ]
  },
  {
   "cell_type": "code",
   "execution_count": 10,
   "metadata": {},
   "outputs": [
    {
     "name": "stderr",
     "output_type": "stream",
     "text": [
      "Scanning files: 100%|██████████| 213/213 [00:19<00:00, 10.90it/s]\n"
     ]
    }
   ],
   "source": [
    "import glob\n",
    "from collections import defaultdict\n",
    "\n",
    "import pandas as pd\n",
    "from tqdm import tqdm\n",
    "\n",
    "# Get all parquet files in the path\n",
    "parquet_files = glob.glob(f\"{path}/**/*.parquet\", recursive=True)\n",
    "\n",
    "# Dictionary to store uid -> files mapping\n",
    "uid_to_files = defaultdict(list)\n",
    "\n",
    "# Scan through all files and collect UIDs\n",
    "for file in tqdm(parquet_files, desc=\"Scanning files\"):\n",
    "    df = pd.read_parquet(file, columns=[\"uid\"])\n",
    "    for uid in df[\"uid\"].unique():\n",
    "        uid_to_files[uid].append(file)\n",
    "\n",
    "# Find UIDs that appear in multiple files\n",
    "duplicates = {\n",
    "    uid: files for uid, files in uid_to_files.items() if len(files) > 1\n",
    "}\n",
    "\n"
   ]
  },
  {
   "cell_type": "code",
   "execution_count": 11,
   "metadata": {},
   "outputs": [
    {
     "name": "stdout",
     "output_type": "stream",
     "text": [
      "0\n"
     ]
    }
   ],
   "source": [
    "duplicate_files = set([file for files in duplicates.values() for file in files])\n",
    "print(len(duplicate_files))"
   ]
  },
  {
   "cell_type": "code",
   "execution_count": 9,
   "metadata": {},
   "outputs": [],
   "source": [
    "import os\n",
    "\n",
    "\n",
    "for f in duplicate_files:\n",
    "    os.remove(f)\n"
   ]
  },
  {
   "cell_type": "code",
   "execution_count": null,
   "metadata": {},
   "outputs": [],
   "source": []
  }
 ],
 "metadata": {
  "kernelspec": {
   "display_name": ".venv",
   "language": "python",
   "name": "python3"
  },
  "language_info": {
   "codemirror_mode": {
    "name": "ipython",
    "version": 3
   },
   "file_extension": ".py",
   "mimetype": "text/x-python",
   "name": "python",
   "nbconvert_exporter": "python",
   "pygments_lexer": "ipython3",
   "version": "3.11.11"
  }
 },
 "nbformat": 4,
 "nbformat_minor": 2
}
