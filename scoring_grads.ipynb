{
 "cells": [
  {
   "cell_type": "code",
   "execution_count": null,
   "metadata": {},
   "outputs": [],
   "source": [
    "%env CUDA_VISIBLE_DEVICES=2\n",
    "from pathlib import Path\n",
    "from pprint import pprint\n",
    "\n",
    "import numpy as np\n",
    "import pyarrow.dataset as ds\n",
    "import torch\n",
    "from config import Config\n",
    "from model import Model\n",
    "from trak import TRAKer\n",
    "\n",
    "cfg = Config()\n",
    "# cfg.device=\"cpu\"\n",
    "pprint(cfg)\n",
    "encoder_cfg = cfg.encoders[0]\n",
    "\n",
    "input_path = str(\n",
    "    Path(cfg.output_dir) / encoder_cfg.name / encoder_cfg.ood_dataset_name\n",
    ")\n",
    "dataset = ds.dataset(input_path, format=\"parquet\")\n",
    "train_set_size = dataset.count_rows()\n",
    "model = Model(encoder_cfg, \"cpu\")\n",
    "model, _, _, _ = model.create_model_and_transforms()\n",
    "traker = TRAKer(\n",
    "    save_dir=cfg.save_dir,\n",
    "    model=model,\n",
    "    task=\"clip\",\n",
    "    train_set_size=train_set_size,\n",
    "    device=cfg.device,\n",
    "    proj_dim=cfg.proj_dim,\n",
    "    use_half_precision=True,\n",
    ")"
   ]
  },
  {
   "cell_type": "code",
   "execution_count": null,
   "metadata": {},
   "outputs": [],
   "source": []
  }
 ],
 "metadata": {
  "language_info": {
   "name": "python"
  }
 },
 "nbformat": 4,
 "nbformat_minor": 2
}
