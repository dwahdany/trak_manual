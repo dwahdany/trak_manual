{
 "cells": [
  {
   "cell_type": "code",
   "execution_count": 13,
   "metadata": {},
   "outputs": [
    {
     "name": "stdout",
     "output_type": "stream",
     "text": [
      "env: CUDA_VISIBLE_DEVICES=6\n",
      "Config(device='cuda',\n",
      "       worker_id=0,\n",
      "       worker_total=1,\n",
      "       dry_run=False,\n",
      "       debug=False,\n",
      "       output_dir='/raid/pdpl/trak/grads/',\n",
      "       save_dir='/raid/pdpl/trak/trak_results/',\n",
      "       write_chunks=1000,\n",
      "       seed=42,\n",
      "       proj_dim=2048,\n",
      "       num_contrastive_samples=50000,\n",
      "       datasets={'CIFAR100': DatasetConfig(uri='/datasets/cifar100/shards/cifar100-train-{000000..000049}.tar',\n",
      "                                           uris=None,\n",
      "                                           size=None,\n",
      "                                           num_workers=16,\n",
      "                                           splittable=True,\n",
      "                                           custom=True),\n",
      "                 'Food101': DatasetConfig(uri='/datasets/food101/shards/food101-train-{000000..000075}.tar',\n",
      "                                          uris=None,\n",
      "                                          size=None,\n",
      "                                          num_workers=16,\n",
      "                                          splittable=True,\n",
      "                                          custom=True),\n",
      "                 'STL10': DatasetConfig(uri='/datasets/stl10/shards/stl10-train-{000000..000004}.tar',\n",
      "                                        uris=None,\n",
      "                                        size=None,\n",
      "                                        num_workers=16,\n",
      "                                        splittable=True,\n",
      "                                        custom=True),\n",
      "                 'commonpool': DatasetConfig(uri='/datasets/datacomp/shards/{00000000..00001287}.tar',\n",
      "                                             uris=None,\n",
      "                                             size=None,\n",
      "                                             num_workers=16,\n",
      "                                             splittable=True,\n",
      "                                             custom=False),\n",
      "                 'fairvision/AMD': DatasetConfig(uri='/datasets/fairvision/AMD/shards/amd-train-{000000..000005}.tar',\n",
      "                                                 uris=None,\n",
      "                                                 size=None,\n",
      "                                                 num_workers=16,\n",
      "                                                 splittable=True,\n",
      "                                                 custom=True),\n",
      "                 'fairvision/DR': DatasetConfig(uri='/datasets/fairvision/DR/shards/dr-train-{000000..000005}.tar',\n",
      "                                                uris=None,\n",
      "                                                size=None,\n",
      "                                                num_workers=16,\n",
      "                                                splittable=True,\n",
      "                                                custom=True),\n",
      "                 'fairvision/Glaucoma': DatasetConfig(uri='/datasets/fairvision/Glaucoma/shards/glaucoma-train-{000000..000005}.tar',\n",
      "                                                      uris=None,\n",
      "                                                      size=None,\n",
      "                                                      num_workers=16,\n",
      "                                                      splittable=True,\n",
      "                                                      custom=True),\n",
      "                 'fitzpatrick17k': DatasetConfig(uri='/datasets/fitzpatrick17k/shards/fitzpatrick17k-train-{000000..000012}.tar',\n",
      "                                                 uris=None,\n",
      "                                                 size=None,\n",
      "                                                 num_workers=16,\n",
      "                                                 splittable=True,\n",
      "                                                 custom=True),\n",
      "                 'pcam': DatasetConfig(uri='/datasets/pcam/shards/pcam-train-{000000..000262}.tar',\n",
      "                                       uris=None,\n",
      "                                       size=None,\n",
      "                                       num_workers=16,\n",
      "                                       splittable=True,\n",
      "                                       custom=True)},\n",
      "       encoders=[EncoderConfig(architecture='ViT-B-32',\n",
      "                               name='local_commonpool_s_s13m_b4k_0',\n",
      "                               path='/raid/pdpl/small_clip_checkpoints/raw/datacomp_v0/small_scale/checkpoints/epoch_5.pt',\n",
      "                               url=None,\n",
      "                               target_datasets=['CIFAR100', 'STL10'],\n",
      "                               ood_dataset_name='commonpool',\n",
      "                               id_dataset_name=None,\n",
      "                               precision='pure_fp16',\n",
      "                               embedding_batch_size=2048,\n",
      "                               grad_batch_size=48,\n",
      "                               model_id=0),\n",
      "                 EncoderConfig(architecture='ViT-B-32',\n",
      "                               name='local_commonpool_s_s13m_b4k_1',\n",
      "                               path='/raid/pdpl/small_clip_checkpoints/raw/datacomp_v1/small_scale/checkpoints/epoch_5.pt',\n",
      "                               url=None,\n",
      "                               target_datasets=['CIFAR100', 'STL10'],\n",
      "                               ood_dataset_name='commonpool',\n",
      "                               id_dataset_name=None,\n",
      "                               precision='pure_fp16',\n",
      "                               embedding_batch_size=2048,\n",
      "                               grad_batch_size=48,\n",
      "                               model_id=1),\n",
      "                 EncoderConfig(architecture='ViT-B-32',\n",
      "                               name='local_commonpool_s_s13m_b4k_2',\n",
      "                               path='/raid/pdpl/small_clip_checkpoints/raw/datacomp_v2/small_scale/checkpoints/epoch_5.pt',\n",
      "                               url=None,\n",
      "                               target_datasets=['CIFAR100', 'STL10'],\n",
      "                               ood_dataset_name='commonpool',\n",
      "                               id_dataset_name=None,\n",
      "                               precision='pure_fp16',\n",
      "                               embedding_batch_size=2048,\n",
      "                               grad_batch_size=48,\n",
      "                               model_id=2)])\n"
     ]
    }
   ],
   "source": [
    "%env CUDA_VISIBLE_DEVICES=6\n",
    "from pathlib import Path\n",
    "from pprint import pprint\n",
    "\n",
    "import numpy as np\n",
    "import pyarrow.dataset as ds\n",
    "import torch as ch\n",
    "import zarr\n",
    "from torch import Tensor\n",
    "from tqdm.rich import tqdm\n",
    "\n",
    "from config.config import Config\n",
    "\n",
    "cfg = Config()\n",
    "# cfg.device=\"cpu\"\n",
    "pprint(cfg)\n"
   ]
  },
  {
   "cell_type": "code",
   "execution_count": null,
   "metadata": {},
   "outputs": [],
   "source": [
    "def load_ood_grads(encoder_cfg):\n",
    "    input_path = str(\n",
    "        Path(cfg.output_dir)\n",
    "        / encoder_cfg.name\n",
    "        / encoder_cfg.ood_dataset_name\n",
    "        / \"data.zarr\"\n",
    "    )\n",
    "    dataset = zarr.open(input_path)\n",
    "    uids = np.char.add(\n",
    "        np.vectorize(lambda x: f\"{x:016x}\")(dataset.uid[\"f0\"]),\n",
    "        np.vectorize(lambda x: f\"{x:016x}\")(dataset.uid[\"f1\"]),\n",
    "    )\n",
    "    g = zarr.load(input_path + \"/grads\")\n",
    "    out_to_loss = zarr.load(input_path + \"/loss_grads\")\n",
    "    # Create a structured array combining both arrays\n",
    "    dtype = [\n",
    "        (\"uids\", uids.dtype),\n",
    "        (\"grads\", g.dtype, g.shape[1]),\n",
    "        (\n",
    "            \"loss_grads\",\n",
    "            out_to_loss.dtype,\n",
    "        ),\n",
    "    ]\n",
    "    combined = np.empty(len(uids), dtype=dtype)\n",
    "    combined[\"uids\"] = uids\n",
    "    combined[\"grads\"] = g\n",
    "    combined[\"loss_grads\"] = out_to_loss\n",
    "\n",
    "    # Sort in-place based on uids\n",
    "    combined.sort(order=\"uids\")\n",
    "\n",
    "    # Extract back the sorted arrays\n",
    "    uids = ch.tensor(combined[\"uids\"], device=\"cpu\").pin_memory()\n",
    "    g = ch.tensor(combined[\"grads\"], device=\"cpu\").pin_memory()\n",
    "    out_to_loss = ch.tensor(combined[\"loss_grads\"], device=\"cpu\").pin_memory()\n",
    "    return uids, g, out_to_loss\n"
   ]
  },
  {
   "cell_type": "code",
   "execution_count": 19,
   "metadata": {},
   "outputs": [],
   "source": [
    "def get_xtx(grads: Tensor, batch_size=20_000) -> Tensor:\n",
    "    proj_dim = grads.shape[1]\n",
    "    result = ch.zeros(proj_dim, proj_dim, dtype=grads.dtype, device=\"cuda\")\n",
    "    blocks = ch.split(grads, split_size_or_sections=batch_size, dim=0)\n",
    "\n",
    "    for block in tqdm(blocks):\n",
    "        result += block.T.to(\"cuda\") @ block.to(\"cuda\")\n",
    "\n",
    "    return result"
   ]
  },
  {
   "cell_type": "code",
   "execution_count": 20,
   "metadata": {},
   "outputs": [
    {
     "data": {
      "application/vnd.jupyter.widget-view+json": {
       "model_id": "a99bc6c8574444f486344e4ab9cf0f6d",
       "version_major": 2,
       "version_minor": 0
      },
      "text/plain": [
       "Output()"
      ]
     },
     "metadata": {},
     "output_type": "display_data"
    },
    {
     "name": "stderr",
     "output_type": "stream",
     "text": [
      "/tmp/ipykernel_1634872/1931852164.py:10: TqdmExperimentalWarning: rich is experimental/alpha\n",
      "  for block in tqdm(blocks):\n"
     ]
    },
    {
     "data": {
      "text/html": [
       "<pre style=\"white-space:pre;overflow-x:auto;line-height:normal;font-family:Menlo,'DejaVu Sans Mono',consolas,'Courier New',monospace\"></pre>\n"
      ],
      "text/plain": []
     },
     "metadata": {},
     "output_type": "display_data"
    }
   ],
   "source": [
    "xtx = get_xtx(ch.tensor(g, device=\"cpu\"))"
   ]
  },
  {
   "cell_type": "code",
   "execution_count": 21,
   "metadata": {},
   "outputs": [],
   "source": [
    "def get_x_xtx_inv(\n",
    "    grads: Tensor, xtx: Tensor, lambda_reg=0.0, batch_size=20_000\n",
    ") -> Tensor:\n",
    "    xtx_reg = xtx + lambda_reg * ch.eye(\n",
    "        xtx.size(dim=0), device=xtx.device, dtype=xtx.dtype\n",
    "    )\n",
    "    xtx_inv = ch.linalg.inv(xtx_reg.to(ch.float32))\n",
    "\n",
    "    # center X^TX inverse a bit to avoid numerical issues when going to float16\n",
    "    xtx_inv /= xtx_inv.abs().mean()\n",
    "    xtx_inv = xtx_inv.to(grads.dtype)\n",
    "\n",
    "    grads_blocks = ch.split(grads, split_size_or_sections=batch_size, dim=0)\n",
    "\n",
    "    # Move xtx_inv to GPU once before the loop\n",
    "    xtx_inv_gpu = xtx_inv.cuda()\n",
    "\n",
    "    # Process blocks on GPU\n",
    "    result_blocks = []\n",
    "    for block in tqdm(grads_blocks, desc=\"Processing blocks\"):\n",
    "        # Move block to GPU, compute, then back to CPU\n",
    "        block_gpu = block.cuda()\n",
    "        result_gpu = block_gpu @ xtx_inv_gpu\n",
    "        result_blocks.append(result_gpu.cpu())\n",
    "\n",
    "    # Concatenate results on CPU\n",
    "    result = ch.cat(result_blocks)\n",
    "\n",
    "    return result.to(dtype=grads.dtype)"
   ]
  },
  {
   "cell_type": "code",
   "execution_count": 22,
   "metadata": {},
   "outputs": [
    {
     "data": {
      "application/vnd.jupyter.widget-view+json": {
       "model_id": "0f6e3c8c21c345e2b292fb7b6345084d",
       "version_major": 2,
       "version_minor": 0
      },
      "text/plain": [
       "Output()"
      ]
     },
     "metadata": {},
     "output_type": "display_data"
    },
    {
     "name": "stderr",
     "output_type": "stream",
     "text": [
      "/tmp/ipykernel_1634872/1614473132.py:20: TqdmExperimentalWarning: rich is experimental/alpha\n",
      "  for block in tqdm(grads_blocks, desc=\"Processing blocks\"):\n"
     ]
    },
    {
     "data": {
      "text/html": [
       "<pre style=\"white-space:pre;overflow-x:auto;line-height:normal;font-family:Menlo,'DejaVu Sans Mono',consolas,'Courier New',monospace\"></pre>\n"
      ],
      "text/plain": []
     },
     "metadata": {},
     "output_type": "display_data"
    }
   ],
   "source": [
    "x_xtx_inv = get_x_xtx_inv(ch.tensor(g, device=\"cpu\"), xtx)"
   ]
  },
  {
   "cell_type": "code",
   "execution_count": 23,
   "metadata": {},
   "outputs": [],
   "source": [
    "features = x_xtx_inv"
   ]
  },
  {
   "cell_type": "code",
   "execution_count": 24,
   "metadata": {},
   "outputs": [],
   "source": [
    "features_pt = features.pin_memory()"
   ]
  },
  {
   "cell_type": "code",
   "execution_count": 25,
   "metadata": {},
   "outputs": [],
   "source": [
    "all_scores = {}"
   ]
  },
  {
   "cell_type": "code",
   "execution_count": 26,
   "metadata": {},
   "outputs": [],
   "source": [
    "from tqdm.rich import trange"
   ]
  },
  {
   "cell_type": "code",
   "execution_count": 29,
   "metadata": {},
   "outputs": [],
   "source": [
    "def get_indices(target, id: bool = True):\n",
    "    id_indices_zarr = zarr.open(\"/raid/pdpl/id_downstream_idx.zarr\", mode=\"r\")\n",
    "    if id:\n",
    "        return id_indices_zarr[target][\"id_indices\"]\n",
    "    else:\n",
    "        return id_indices_zarr[target][\"downstream_indices\"]"
   ]
  },
  {
   "cell_type": "code",
   "execution_count": 30,
   "metadata": {},
   "outputs": [
    {
     "data": {
      "application/vnd.jupyter.widget-view+json": {
       "model_id": "ed8e327aba0c42859583631336ab7fe4",
       "version_major": 2,
       "version_minor": 0
      },
      "text/plain": [
       "Output()"
      ]
     },
     "metadata": {},
     "output_type": "display_data"
    },
    {
     "name": "stderr",
     "output_type": "stream",
     "text": [
      "/tmp/ipykernel_1634872/3380326953.py:32: TqdmExperimentalWarning: rich is experimental/alpha\n",
      "  for batch in tqdm(\n"
     ]
    },
    {
     "data": {
      "text/html": [
       "<pre style=\"white-space:pre;overflow-x:auto;line-height:normal;font-family:Menlo,'DejaVu Sans Mono',consolas,'Courier New',monospace\"></pre>\n"
      ],
      "text/plain": []
     },
     "metadata": {},
     "output_type": "display_data"
    },
    {
     "data": {
      "application/vnd.jupyter.widget-view+json": {
       "model_id": "d5724c260b224888b6b25600d2d2327c",
       "version_major": 2,
       "version_minor": 0
      },
      "text/plain": [
       "Output()"
      ]
     },
     "metadata": {},
     "output_type": "display_data"
    },
    {
     "name": "stderr",
     "output_type": "stream",
     "text": [
      "/git/trak_manual/.venv/lib/python3.11/site-packages/tqdm/rich.py:146: TqdmExperimentalWarning: rich is experimental/alpha\n",
      "  return tqdm_rich(range(*args), **kwargs)\n"
     ]
    },
    {
     "data": {
      "text/html": [
       "<pre style=\"white-space:pre;overflow-x:auto;line-height:normal;font-family:Menlo,'DejaVu Sans Mono',consolas,'Courier New',monospace\"></pre>\n"
      ],
      "text/plain": []
     },
     "metadata": {},
     "output_type": "display_data"
    },
    {
     "data": {
      "application/vnd.jupyter.widget-view+json": {
       "model_id": "d04e56182a8c48f19fcff9cf25f9f9ef",
       "version_major": 2,
       "version_minor": 0
      },
      "text/plain": [
       "Output()"
      ]
     },
     "metadata": {},
     "output_type": "display_data"
    },
    {
     "data": {
      "text/html": [
       "<pre style=\"white-space:pre;overflow-x:auto;line-height:normal;font-family:Menlo,'DejaVu Sans Mono',consolas,'Courier New',monospace\"></pre>\n"
      ],
      "text/plain": []
     },
     "metadata": {},
     "output_type": "display_data"
    },
    {
     "data": {
      "application/vnd.jupyter.widget-view+json": {
       "model_id": "995236f1a2b9407ba69a6e1a8ca2cd47",
       "version_major": 2,
       "version_minor": 0
      },
      "text/plain": [
       "Output()"
      ]
     },
     "metadata": {},
     "output_type": "display_data"
    },
    {
     "data": {
      "text/html": [
       "<pre style=\"white-space:pre;overflow-x:auto;line-height:normal;font-family:Menlo,'DejaVu Sans Mono',consolas,'Courier New',monospace\"></pre>\n"
      ],
      "text/plain": []
     },
     "metadata": {},
     "output_type": "display_data"
    },
    {
     "data": {
      "application/vnd.jupyter.widget-view+json": {
       "model_id": "cff8d6a2c8224a82b465a75d0b8973ba",
       "version_major": 2,
       "version_minor": 0
      },
      "text/plain": [
       "Output()"
      ]
     },
     "metadata": {},
     "output_type": "display_data"
    },
    {
     "data": {
      "text/html": [
       "<pre style=\"white-space:pre;overflow-x:auto;line-height:normal;font-family:Menlo,'DejaVu Sans Mono',consolas,'Courier New',monospace\"></pre>\n"
      ],
      "text/plain": []
     },
     "metadata": {},
     "output_type": "display_data"
    },
    {
     "data": {
      "application/vnd.jupyter.widget-view+json": {
       "model_id": "623c3b939a4a4712a5690aec44e30f0b",
       "version_major": 2,
       "version_minor": 0
      },
      "text/plain": [
       "Output()"
      ]
     },
     "metadata": {},
     "output_type": "display_data"
    },
    {
     "data": {
      "text/html": [
       "<pre style=\"white-space:pre;overflow-x:auto;line-height:normal;font-family:Menlo,'DejaVu Sans Mono',consolas,'Courier New',monospace\"></pre>\n"
      ],
      "text/plain": []
     },
     "metadata": {},
     "output_type": "display_data"
    },
    {
     "data": {
      "application/vnd.jupyter.widget-view+json": {
       "model_id": "23c2c7daef0546f08eb409b9ec9752c7",
       "version_major": 2,
       "version_minor": 0
      },
      "text/plain": [
       "Output()"
      ]
     },
     "metadata": {},
     "output_type": "display_data"
    },
    {
     "data": {
      "text/html": [
       "<pre style=\"white-space:pre;overflow-x:auto;line-height:normal;font-family:Menlo,'DejaVu Sans Mono',consolas,'Courier New',monospace\"></pre>\n"
      ],
      "text/plain": []
     },
     "metadata": {},
     "output_type": "display_data"
    },
    {
     "data": {
      "application/vnd.jupyter.widget-view+json": {
       "model_id": "85b5f6bed7054ba2a0f21db405c6d5ac",
       "version_major": 2,
       "version_minor": 0
      },
      "text/plain": [
       "Output()"
      ]
     },
     "metadata": {},
     "output_type": "display_data"
    },
    {
     "data": {
      "text/html": [
       "<pre style=\"white-space:pre;overflow-x:auto;line-height:normal;font-family:Menlo,'DejaVu Sans Mono',consolas,'Courier New',monospace\"></pre>\n"
      ],
      "text/plain": []
     },
     "metadata": {},
     "output_type": "display_data"
    }
   ],
   "source": [
    "scores_zarr = zarr.open(\n",
    "    \"/datasets/datacomp/nearest_neighbor_scores.zarr\", mode=\"a\"\n",
    ")\n",
    "if \"trak\" not in scores_zarr:\n",
    "    scores_zarr.create_group(\"trak\")\n",
    "scores_zarr = scores_zarr[\"trak\"]\n",
    "# get target features\n",
    "for target in [\n",
    "    \"fitzpatrick17k\",\n",
    "    \"fairvision/dr\",\n",
    "    \"fairvision/amd\",\n",
    "    \"fairvision/glaucoma\",\n",
    "    \"pcam\",\n",
    "    \"food101\",\n",
    "    \"cifar100\",\n",
    "    \"stl10\",\n",
    "]:\n",
    "    if target in all_scores.keys():\n",
    "        continue\n",
    "    if target in scores_zarr:\n",
    "        all_scores[target] = scores_zarr[target][\"id_scores\"]\n",
    "        continue\n",
    "    input_path = str(Path(cfg.output_dir) / encoder_cfg.name / target)\n",
    "    dataset_target = ds.dataset(input_path, format=\"parquet\")\n",
    "    batch_size = 16384\n",
    "    scanner = dataset_target.scanner(\n",
    "        columns=[\"grads\", \"uid\"], batch_size=batch_size\n",
    "    )\n",
    "    batches = scanner.to_batches()\n",
    "    grads_list = []\n",
    "    uids_list = []\n",
    "    for batch in tqdm(\n",
    "        scanner.to_batches(), total=dataset_target.count_rows() // batch_size\n",
    "    ):\n",
    "        grads_list.extend(batch.column(\"grads\").to_numpy(zero_copy_only=False))\n",
    "        uids_list.extend(batch.column(\"uid\").to_numpy(zero_copy_only=False))\n",
    "    g_target = np.stack(grads_list)\n",
    "    uids_target = np.stack(uids_list)\n",
    "    dtype = [\n",
    "        (\"uids\", uids_target.dtype),\n",
    "        (\"grads\", g_target.dtype, g_target.shape[1]),\n",
    "    ]\n",
    "    combined = np.empty(len(uids_target), dtype=dtype)\n",
    "    combined[\"uids\"] = uids_target\n",
    "    combined[\"grads\"] = g_target\n",
    "    combined.sort(order=\"uids\")\n",
    "    uids_target = combined[\"uids\"]\n",
    "    g_target = combined[\"grads\"]\n",
    "    id_indices = get_indices(target, id=False)  # get downstream indices\n",
    "    g_target_pt = ch.tensor(g_target[id_indices], device=\"cpu\").pin_memory()\n",
    "\n",
    "    batch_size = 8192 * 2\n",
    "    scores = []\n",
    "    for i in trange(0, len(features), batch_size):\n",
    "        batch = features_pt[i : i + batch_size].cuda()\n",
    "        batch_scores = ch.mean(batch @ g_target_pt.cuda().T, axis=1)\n",
    "        scores.append(batch_scores.cpu())\n",
    "    scores = ch.cat(scores)\n",
    "    scores = scores * out_to_loss\n",
    "    if target not in scores_zarr:\n",
    "        target_group = scores_zarr.create_group(target)\n",
    "    else:\n",
    "        target_group = scores_zarr[target]\n",
    "\n",
    "    # Save the scores\n",
    "    target_group.array(\n",
    "        \"id_scores\", np.array(scores.cpu()), dtype=np.float32, overwrite=True\n",
    "    )\n",
    "    all_scores[target] = scores.cpu()\n"
   ]
  },
  {
   "cell_type": "code",
   "execution_count": 31,
   "metadata": {},
   "outputs": [
    {
     "data": {
      "text/plain": [
       "dict_keys(['fitzpatrick17k', 'fairvision/dr', 'fairvision/amd', 'fairvision/glaucoma', 'pcam', 'food101', 'cifar100', 'stl10'])"
      ]
     },
     "execution_count": 31,
     "metadata": {},
     "output_type": "execute_result"
    }
   ],
   "source": [
    "all_scores.keys()"
   ]
  },
  {
   "cell_type": "code",
   "execution_count": 32,
   "metadata": {},
   "outputs": [
    {
     "name": "stdout",
     "output_type": "stream",
     "text": [
      "               dataset   mean    std\n",
      "4                 pcam 0.0000 0.0020\n",
      "2       fairvision/amd 0.0000 0.0016\n",
      "1        fairvision/dr 0.0000 0.0015\n",
      "3  fairvision/glaucoma 0.0001 0.0013\n",
      "0       fitzpatrick17k 0.0000 0.0012\n",
      "7                stl10 0.0000 0.0011\n",
      "6             cifar100 0.0000 0.0008\n",
      "5              food101 0.0000 0.0007\n"
     ]
    }
   ],
   "source": [
    "import pandas as pd\n",
    "\n",
    "data = []\n",
    "for key, scores in all_scores.items():\n",
    "    mean = scores.mean().item()\n",
    "    std = scores.std().item()\n",
    "    data.append({\"dataset\": key, \"mean\": mean, \"std\": std})\n",
    "\n",
    "df = pd.DataFrame(data)\n",
    "df = df.sort_values(\"std\", ascending=False)\n",
    "print(df.to_string(float_format=lambda x: \"{:.4f}\".format(x)))\n"
   ]
  },
  {
   "cell_type": "code",
   "execution_count": 33,
   "metadata": {},
   "outputs": [
    {
     "data": {
      "image/png": "[encoded data removed]",
      "text/plain": [
       "<Figure size 1000x600 with 1 Axes>"
      ]
     },
     "metadata": {},
     "output_type": "display_data"
    }
   ],
   "source": [
    "import jax.numpy as jnp\n",
    "import matplotlib.pyplot as plt\n",
    "import seaborn as sns\n",
    "\n",
    "plt.figure(figsize=(10, 6))\n",
    "sns.set_style(\"whitegrid\", {\"grid.alpha\": 0.3})\n",
    "\n",
    "# Create a continuous color palette with enough colors\n",
    "num_datasets = len(all_scores)\n",
    "colors = plt.cm.viridis(np.linspace(0, 1, num_datasets))\n",
    "\n",
    "\n",
    "def compute_histogram(data, bins=50):\n",
    "    hist, bin_edges = jnp.histogram(data, bins=bins)\n",
    "    return hist, bin_edges\n",
    "\n",
    "\n",
    "# Plot in order of standard deviation from df\n",
    "for i, row in enumerate(df.itertuples()):\n",
    "    key = row.dataset\n",
    "    scores = all_scores[key]\n",
    "    scores_np = jnp.array(scores.numpy())\n",
    "    hist, bins = compute_histogram(scores_np)\n",
    "\n",
    "    # Convert back to numpy for seaborn plotting\n",
    "    hist = hist.block_until_ready()\n",
    "    sns.lineplot(x=bins[:-1], y=hist, alpha=0.5, label=key, color=colors[i])\n",
    "    plt.yscale(\"log\")\n",
    "\n",
    "plt.title(\"Distribution of Scores Across Datasets\")\n",
    "plt.xlabel(\"Score\")\n",
    "plt.ylabel(\"Count (log scale)\")\n",
    "plt.legend()\n",
    "plt.show()"
   ]
  },
  {
   "cell_type": "code",
   "execution_count": 40,
   "metadata": {},
   "outputs": [],
   "source": [
    "# from trak.utils import get_matrix_mult_blockwise\n",
    "\n",
    "# full_scores = get_matrix_mult_blockwise(\n",
    "#     features, ch.tensor(g_target, device=\"cpu\"), ch.float16, bs=2048\n",
    "# )\n"
   ]
  },
  {
   "cell_type": "code",
   "execution_count": null,
   "metadata": {},
   "outputs": [],
   "source": []
  },
  {
   "cell_type": "code",
   "execution_count": null,
   "metadata": {},
   "outputs": [],
   "source": []
  }
 ],
 "metadata": {
  "kernelspec": {
   "display_name": ".venv",
   "language": "python",
   "name": "python3"
  },
  "language_info": {
   "codemirror_mode": {
    "name": "ipython",
    "version": 3
   },
   "file_extension": ".py",
   "mimetype": "text/x-python",
   "name": "python",
   "nbconvert_exporter": "python",
   "pygments_lexer": "ipython3",
   "version": "3.11.11"
  }
 },
 "nbformat": 4,
 "nbformat_minor": 2
}
